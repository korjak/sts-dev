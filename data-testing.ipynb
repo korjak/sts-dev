{
 "metadata": {
  "language_info": {
   "codemirror_mode": {
    "name": "ipython",
    "version": 3
   },
   "file_extension": ".py",
   "mimetype": "text/x-python",
   "name": "python",
   "nbconvert_exporter": "python",
   "pygments_lexer": "ipython3",
   "version": "3.7.7-final"
  },
  "orig_nbformat": 2,
  "kernelspec": {
   "name": "python3",
   "display_name": "Python 3"
  }
 },
 "nbformat": 4,
 "nbformat_minor": 2,
 "cells": [
  {
   "cell_type": "code",
   "execution_count": 2,
   "metadata": {},
   "outputs": [],
   "source": [
    "import pandas as pd\n",
    "import csv"
   ]
  },
  {
   "cell_type": "code",
   "execution_count": 29,
   "metadata": {
    "tags": []
   },
   "outputs": [
    {
     "output_type": "execute_result",
     "data": {
      "text/plain": [
       "       Unnamed: 0  sentence_id  article_id  \\\n",
       "0               0         5327         123   \n",
       "1               1         5328         123   \n",
       "2               2         5329         123   \n",
       "3               3         5330         123   \n",
       "4               4         5331         123   \n",
       "...           ...          ...         ...   \n",
       "10426       10426        19214         402   \n",
       "10427       10427        19215         402   \n",
       "10428       10428        19216         402   \n",
       "10429       10429        19217         402   \n",
       "10430       10430        19218         402   \n",
       "\n",
       "                                                    body    category    label  \\\n",
       "0      Psychiatric drugs do more harm than good and t...  psychiatry  NONCRED   \n",
       "1      The views expressed in a British Medical Journ...  psychiatry      NEU   \n",
       "2      However, others say the debate around the use ...  psychiatry  NONCRED   \n",
       "3      Gøtzsche says more than half a million people ...  psychiatry     CRED   \n",
       "4      “Their benefits would need to be colossal to j...  psychiatry  NONCRED   \n",
       "...                                                  ...         ...      ...   \n",
       "10426  “If you’ve been taking an antidepressant for a...  psychiatry     CRED   \n",
       "10427  He stresses the importance of slowly tapering ...  psychiatry     CRED   \n",
       "10428  “Antidepressants, particularly selective serot...  psychiatry     CRED   \n",
       "10429  “So you need to reduce the dosage of depressio...  psychiatry     CRED   \n",
       "10430  If you feel your medication isn’t working up t...  psychiatry     CRED   \n",
       "\n",
       "                                                keywords  \\\n",
       "0      drug, gøtzsche, psychiatric, dementia, antipsy...   \n",
       "1      drug, gøtzsche, psychiatric, dementia, antipsy...   \n",
       "2      drug, gøtzsche, psychiatric, dementia, antipsy...   \n",
       "3      drug, gøtzsche, psychiatric, dementia, antipsy...   \n",
       "4      drug, gøtzsche, psychiatric, dementia, antipsy...   \n",
       "...                                                  ...   \n",
       "10426  depression, antidepressant, hullett, medicatio...   \n",
       "10427  depression, antidepressant, hullett, medicatio...   \n",
       "10428  depression, antidepressant, hullett, medicatio...   \n",
       "10429  depression, antidepressant, hullett, medicatio...   \n",
       "10430  depression, antidepressant, hullett, medicatio...   \n",
       "\n",
       "                    time_start                 time_end  context_window  \\\n",
       "0      2019-12-19 16:06:56.694  2019-12-19 16:12:11.418               0   \n",
       "1      2019-12-19 16:06:51.706  2019-12-19 16:11:56.418               0   \n",
       "2      2019-12-19 16:06:49.877  2019-12-19 16:13:00.585               1   \n",
       "3      2019-12-19 16:17:20.925  2019-12-19 16:18:25.288               1   \n",
       "4      2019-12-19 16:41:02.775  2019-12-19 16:41:50.698               1   \n",
       "...                        ...                      ...             ...   \n",
       "10426  2020-01-03 21:44:48.177  2020-01-03 21:45:29.059               0   \n",
       "10427  2019-12-21 22:25:43.089  2019-12-21 22:26:13.247               1   \n",
       "10428  2020-01-05 11:14:24.291  2020-01-05 11:14:46.958               0   \n",
       "10429  2019-12-19 19:32:20.408  2019-12-19 19:32:38.731               1   \n",
       "10430  2019-12-19 19:34:24.380  2019-12-19 19:34:49.084               0   \n",
       "\n",
       "                                                    tags reason  \n",
       "0                                            is anecdote    NaN  \n",
       "1                                                    NaN    NaN  \n",
       "2      the author of this sentence shows signs of the...    NaN  \n",
       "3                                                    NaN    NaN  \n",
       "4      the author of this sentence shows signs of the...    NaN  \n",
       "...                                                  ...    ...  \n",
       "10426                                                NaN    NaN  \n",
       "10427                                                NaN    NaN  \n",
       "10428                                                NaN    NaN  \n",
       "10429                                                NaN    NaN  \n",
       "10430                                                NaN    NaN  \n",
       "\n",
       "[10431 rows x 12 columns]"
      ],
      "text/html": "<div>\n<style scoped>\n    .dataframe tbody tr th:only-of-type {\n        vertical-align: middle;\n    }\n\n    .dataframe tbody tr th {\n        vertical-align: top;\n    }\n\n    .dataframe thead th {\n        text-align: right;\n    }\n</style>\n<table border=\"1\" class=\"dataframe\">\n  <thead>\n    <tr style=\"text-align: right;\">\n      <th></th>\n      <th>Unnamed: 0</th>\n      <th>sentence_id</th>\n      <th>article_id</th>\n      <th>body</th>\n      <th>category</th>\n      <th>label</th>\n      <th>keywords</th>\n      <th>time_start</th>\n      <th>time_end</th>\n      <th>context_window</th>\n      <th>tags</th>\n      <th>reason</th>\n    </tr>\n  </thead>\n  <tbody>\n    <tr>\n      <th>0</th>\n      <td>0</td>\n      <td>5327</td>\n      <td>123</td>\n      <td>Psychiatric drugs do more harm than good and t...</td>\n      <td>psychiatry</td>\n      <td>NONCRED</td>\n      <td>drug, gøtzsche, psychiatric, dementia, antipsy...</td>\n      <td>2019-12-19 16:06:56.694</td>\n      <td>2019-12-19 16:12:11.418</td>\n      <td>0</td>\n      <td>is anecdote</td>\n      <td>NaN</td>\n    </tr>\n    <tr>\n      <th>1</th>\n      <td>1</td>\n      <td>5328</td>\n      <td>123</td>\n      <td>The views expressed in a British Medical Journ...</td>\n      <td>psychiatry</td>\n      <td>NEU</td>\n      <td>drug, gøtzsche, psychiatric, dementia, antipsy...</td>\n      <td>2019-12-19 16:06:51.706</td>\n      <td>2019-12-19 16:11:56.418</td>\n      <td>0</td>\n      <td>NaN</td>\n      <td>NaN</td>\n    </tr>\n    <tr>\n      <th>2</th>\n      <td>2</td>\n      <td>5329</td>\n      <td>123</td>\n      <td>However, others say the debate around the use ...</td>\n      <td>psychiatry</td>\n      <td>NONCRED</td>\n      <td>drug, gøtzsche, psychiatric, dementia, antipsy...</td>\n      <td>2019-12-19 16:06:49.877</td>\n      <td>2019-12-19 16:13:00.585</td>\n      <td>1</td>\n      <td>the author of this sentence shows signs of the...</td>\n      <td>NaN</td>\n    </tr>\n    <tr>\n      <th>3</th>\n      <td>3</td>\n      <td>5330</td>\n      <td>123</td>\n      <td>Gøtzsche says more than half a million people ...</td>\n      <td>psychiatry</td>\n      <td>CRED</td>\n      <td>drug, gøtzsche, psychiatric, dementia, antipsy...</td>\n      <td>2019-12-19 16:17:20.925</td>\n      <td>2019-12-19 16:18:25.288</td>\n      <td>1</td>\n      <td>NaN</td>\n      <td>NaN</td>\n    </tr>\n    <tr>\n      <th>4</th>\n      <td>4</td>\n      <td>5331</td>\n      <td>123</td>\n      <td>“Their benefits would need to be colossal to j...</td>\n      <td>psychiatry</td>\n      <td>NONCRED</td>\n      <td>drug, gøtzsche, psychiatric, dementia, antipsy...</td>\n      <td>2019-12-19 16:41:02.775</td>\n      <td>2019-12-19 16:41:50.698</td>\n      <td>1</td>\n      <td>the author of this sentence shows signs of the...</td>\n      <td>NaN</td>\n    </tr>\n    <tr>\n      <th>...</th>\n      <td>...</td>\n      <td>...</td>\n      <td>...</td>\n      <td>...</td>\n      <td>...</td>\n      <td>...</td>\n      <td>...</td>\n      <td>...</td>\n      <td>...</td>\n      <td>...</td>\n      <td>...</td>\n      <td>...</td>\n    </tr>\n    <tr>\n      <th>10426</th>\n      <td>10426</td>\n      <td>19214</td>\n      <td>402</td>\n      <td>“If you’ve been taking an antidepressant for a...</td>\n      <td>psychiatry</td>\n      <td>CRED</td>\n      <td>depression, antidepressant, hullett, medicatio...</td>\n      <td>2020-01-03 21:44:48.177</td>\n      <td>2020-01-03 21:45:29.059</td>\n      <td>0</td>\n      <td>NaN</td>\n      <td>NaN</td>\n    </tr>\n    <tr>\n      <th>10427</th>\n      <td>10427</td>\n      <td>19215</td>\n      <td>402</td>\n      <td>He stresses the importance of slowly tapering ...</td>\n      <td>psychiatry</td>\n      <td>CRED</td>\n      <td>depression, antidepressant, hullett, medicatio...</td>\n      <td>2019-12-21 22:25:43.089</td>\n      <td>2019-12-21 22:26:13.247</td>\n      <td>1</td>\n      <td>NaN</td>\n      <td>NaN</td>\n    </tr>\n    <tr>\n      <th>10428</th>\n      <td>10428</td>\n      <td>19216</td>\n      <td>402</td>\n      <td>“Antidepressants, particularly selective serot...</td>\n      <td>psychiatry</td>\n      <td>CRED</td>\n      <td>depression, antidepressant, hullett, medicatio...</td>\n      <td>2020-01-05 11:14:24.291</td>\n      <td>2020-01-05 11:14:46.958</td>\n      <td>0</td>\n      <td>NaN</td>\n      <td>NaN</td>\n    </tr>\n    <tr>\n      <th>10429</th>\n      <td>10429</td>\n      <td>19217</td>\n      <td>402</td>\n      <td>“So you need to reduce the dosage of depressio...</td>\n      <td>psychiatry</td>\n      <td>CRED</td>\n      <td>depression, antidepressant, hullett, medicatio...</td>\n      <td>2019-12-19 19:32:20.408</td>\n      <td>2019-12-19 19:32:38.731</td>\n      <td>1</td>\n      <td>NaN</td>\n      <td>NaN</td>\n    </tr>\n    <tr>\n      <th>10430</th>\n      <td>10430</td>\n      <td>19218</td>\n      <td>402</td>\n      <td>If you feel your medication isn’t working up t...</td>\n      <td>psychiatry</td>\n      <td>CRED</td>\n      <td>depression, antidepressant, hullett, medicatio...</td>\n      <td>2019-12-19 19:34:24.380</td>\n      <td>2019-12-19 19:34:49.084</td>\n      <td>0</td>\n      <td>NaN</td>\n      <td>NaN</td>\n    </tr>\n  </tbody>\n</table>\n<p>10431 rows × 12 columns</p>\n</div>"
     },
     "metadata": {},
     "execution_count": 29
    }
   ],
   "source": [
    "med_s = pd.read_csv(r'C:\\Users\\a.szlendak\\Desktop\\daneinz\\repo\\medical_credibility_corpus\\sentences.csv' , error_bad_lines=False)\n",
    "med_s"
   ]
  },
  {
   "cell_type": "code",
   "execution_count": 30,
   "metadata": {},
   "outputs": [
    {
     "output_type": "execute_result",
     "data": {
      "text/plain": [
       "                         Unnamed: 0  sentence_id  article_id  body  category  \\\n",
       "category                                                                       \n",
       "allergy_testing                1402         1402          23  1266         1   \n",
       "antioxidants                    694          694          10   685         1   \n",
       "aspirin_pregnancy               257          257          14   254         1   \n",
       "cc_vs_nb                        359          359          12   344         1   \n",
       "children_antibiotics            432          432          14   411         1   \n",
       "cholesterol_and_statins        2029         2029          35  1964         1   \n",
       "diet_and_autism                 431          431          12   413         1   \n",
       "heart_supplements               423          423          14   411         1   \n",
       "psychiatry                     2272         2272          48  2238         1   \n",
       "ssri_during_pregnancy           169          169           7   169         1   \n",
       "steroids_for_kids               701          701          10   639         1   \n",
       "vaccination                    1262         1262          24  1160         1   \n",
       "\n",
       "                         label  keywords  time_start  time_end  \\\n",
       "category                                                         \n",
       "allergy_testing              3        23        1402      1402   \n",
       "antioxidants                 3        10         694       694   \n",
       "aspirin_pregnancy            3        14         257       257   \n",
       "cc_vs_nb                     3        12         359       359   \n",
       "children_antibiotics         3        14         432       432   \n",
       "cholesterol_and_statins      3        35        2029      2029   \n",
       "diet_and_autism              3        12         431       431   \n",
       "heart_supplements            3        14         423       423   \n",
       "psychiatry                   3        48        2272      2272   \n",
       "ssri_during_pregnancy        3         7         169       169   \n",
       "steroids_for_kids            3        10         701       701   \n",
       "vaccination                  3        24        1262      1262   \n",
       "\n",
       "                         context_window  tags  reason  \n",
       "category                                               \n",
       "allergy_testing                       2    15       0  \n",
       "antioxidants                          3    18       1  \n",
       "aspirin_pregnancy                     3     6       0  \n",
       "cc_vs_nb                              5     5       0  \n",
       "children_antibiotics                  6    13       0  \n",
       "cholesterol_and_statins               5    30       1  \n",
       "diet_and_autism                       6    27       0  \n",
       "heart_supplements                     2    15       1  \n",
       "psychiatry                            3    13       1  \n",
       "ssri_during_pregnancy                 3     5       0  \n",
       "steroids_for_kids                     3     8       0  \n",
       "vaccination                           4    36       0  "
      ],
      "text/html": "<div>\n<style scoped>\n    .dataframe tbody tr th:only-of-type {\n        vertical-align: middle;\n    }\n\n    .dataframe tbody tr th {\n        vertical-align: top;\n    }\n\n    .dataframe thead th {\n        text-align: right;\n    }\n</style>\n<table border=\"1\" class=\"dataframe\">\n  <thead>\n    <tr style=\"text-align: right;\">\n      <th></th>\n      <th>Unnamed: 0</th>\n      <th>sentence_id</th>\n      <th>article_id</th>\n      <th>body</th>\n      <th>category</th>\n      <th>label</th>\n      <th>keywords</th>\n      <th>time_start</th>\n      <th>time_end</th>\n      <th>context_window</th>\n      <th>tags</th>\n      <th>reason</th>\n    </tr>\n    <tr>\n      <th>category</th>\n      <th></th>\n      <th></th>\n      <th></th>\n      <th></th>\n      <th></th>\n      <th></th>\n      <th></th>\n      <th></th>\n      <th></th>\n      <th></th>\n      <th></th>\n      <th></th>\n    </tr>\n  </thead>\n  <tbody>\n    <tr>\n      <th>allergy_testing</th>\n      <td>1402</td>\n      <td>1402</td>\n      <td>23</td>\n      <td>1266</td>\n      <td>1</td>\n      <td>3</td>\n      <td>23</td>\n      <td>1402</td>\n      <td>1402</td>\n      <td>2</td>\n      <td>15</td>\n      <td>0</td>\n    </tr>\n    <tr>\n      <th>antioxidants</th>\n      <td>694</td>\n      <td>694</td>\n      <td>10</td>\n      <td>685</td>\n      <td>1</td>\n      <td>3</td>\n      <td>10</td>\n      <td>694</td>\n      <td>694</td>\n      <td>3</td>\n      <td>18</td>\n      <td>1</td>\n    </tr>\n    <tr>\n      <th>aspirin_pregnancy</th>\n      <td>257</td>\n      <td>257</td>\n      <td>14</td>\n      <td>254</td>\n      <td>1</td>\n      <td>3</td>\n      <td>14</td>\n      <td>257</td>\n      <td>257</td>\n      <td>3</td>\n      <td>6</td>\n      <td>0</td>\n    </tr>\n    <tr>\n      <th>cc_vs_nb</th>\n      <td>359</td>\n      <td>359</td>\n      <td>12</td>\n      <td>344</td>\n      <td>1</td>\n      <td>3</td>\n      <td>12</td>\n      <td>359</td>\n      <td>359</td>\n      <td>5</td>\n      <td>5</td>\n      <td>0</td>\n    </tr>\n    <tr>\n      <th>children_antibiotics</th>\n      <td>432</td>\n      <td>432</td>\n      <td>14</td>\n      <td>411</td>\n      <td>1</td>\n      <td>3</td>\n      <td>14</td>\n      <td>432</td>\n      <td>432</td>\n      <td>6</td>\n      <td>13</td>\n      <td>0</td>\n    </tr>\n    <tr>\n      <th>cholesterol_and_statins</th>\n      <td>2029</td>\n      <td>2029</td>\n      <td>35</td>\n      <td>1964</td>\n      <td>1</td>\n      <td>3</td>\n      <td>35</td>\n      <td>2029</td>\n      <td>2029</td>\n      <td>5</td>\n      <td>30</td>\n      <td>1</td>\n    </tr>\n    <tr>\n      <th>diet_and_autism</th>\n      <td>431</td>\n      <td>431</td>\n      <td>12</td>\n      <td>413</td>\n      <td>1</td>\n      <td>3</td>\n      <td>12</td>\n      <td>431</td>\n      <td>431</td>\n      <td>6</td>\n      <td>27</td>\n      <td>0</td>\n    </tr>\n    <tr>\n      <th>heart_supplements</th>\n      <td>423</td>\n      <td>423</td>\n      <td>14</td>\n      <td>411</td>\n      <td>1</td>\n      <td>3</td>\n      <td>14</td>\n      <td>423</td>\n      <td>423</td>\n      <td>2</td>\n      <td>15</td>\n      <td>1</td>\n    </tr>\n    <tr>\n      <th>psychiatry</th>\n      <td>2272</td>\n      <td>2272</td>\n      <td>48</td>\n      <td>2238</td>\n      <td>1</td>\n      <td>3</td>\n      <td>48</td>\n      <td>2272</td>\n      <td>2272</td>\n      <td>3</td>\n      <td>13</td>\n      <td>1</td>\n    </tr>\n    <tr>\n      <th>ssri_during_pregnancy</th>\n      <td>169</td>\n      <td>169</td>\n      <td>7</td>\n      <td>169</td>\n      <td>1</td>\n      <td>3</td>\n      <td>7</td>\n      <td>169</td>\n      <td>169</td>\n      <td>3</td>\n      <td>5</td>\n      <td>0</td>\n    </tr>\n    <tr>\n      <th>steroids_for_kids</th>\n      <td>701</td>\n      <td>701</td>\n      <td>10</td>\n      <td>639</td>\n      <td>1</td>\n      <td>3</td>\n      <td>10</td>\n      <td>701</td>\n      <td>701</td>\n      <td>3</td>\n      <td>8</td>\n      <td>0</td>\n    </tr>\n    <tr>\n      <th>vaccination</th>\n      <td>1262</td>\n      <td>1262</td>\n      <td>24</td>\n      <td>1160</td>\n      <td>1</td>\n      <td>3</td>\n      <td>24</td>\n      <td>1262</td>\n      <td>1262</td>\n      <td>4</td>\n      <td>36</td>\n      <td>0</td>\n    </tr>\n  </tbody>\n</table>\n</div>"
     },
     "metadata": {},
     "execution_count": 30
    }
   ],
   "source": [
    "med_s.groupby('category').nunique()"
   ]
  },
  {
   "cell_type": "code",
   "execution_count": 60,
   "metadata": {},
   "outputs": [
    {
     "output_type": "execute_result",
     "data": {
      "text/plain": [
       "      Unnamed: 0  sentence_id  article_id  \\\n",
       "1000        1000         6453         148   \n",
       "1010        1010         6469         148   \n",
       "1363        1363         6953         158   \n",
       "1892        1892         7602         170   \n",
       "1902        1902         7615         170   \n",
       "...          ...          ...         ...   \n",
       "9253        9253        15748         320   \n",
       "9263        9263        15758         320   \n",
       "9273        9273        15768         320   \n",
       "9283        9283        15778         320   \n",
       "9293        9293        15788         320   \n",
       "\n",
       "                                                   body     category    label  \\\n",
       "1000  TUCSON, Ariz., Dec.  07, 2018  (GLOBE NEWSWIRE...  vaccination  NONCRED   \n",
       "1010  Brian Hooker, Ph.D., drbrianhooker@gmail.com, ...  vaccination      NEU   \n",
       "1363  What isn’t highlighted is that in many cases, ...  vaccination  NONCRED   \n",
       "1892  In another paper published in the Journal of t...  vaccination      NEU   \n",
       "1902  When the body’s immune system is activated thi...  vaccination  NONCRED   \n",
       "...                                                 ...          ...      ...   \n",
       "9253  These include: Autism The belief that vaccines...  vaccination  NONCRED   \n",
       "9263  Even so, the CDC states that thimerosal does n...  vaccination     CRED   \n",
       "9273  There are both shot and nasal spray vaccinatio...  vaccination     CRED   \n",
       "9283  When people mistrust science, they’re less lik...  vaccination     CRED   \n",
       "9293  If you have concerns about a vaccination for y...  vaccination     CRED   \n",
       "\n",
       "                                               keywords  \\\n",
       "1000                hooker, dr, data, surgeon, original   \n",
       "1010                hooker, dr, data, surgeon, original   \n",
       "1363  vaccination, vaccine, reaction, administration...   \n",
       "1892     vaccine, vaccination, immune, injury, activate   \n",
       "1902     vaccine, vaccination, immune, injury, activate   \n",
       "...                                                 ...   \n",
       "9253   vaccine, vaccination, flu, opposition, vaccinate   \n",
       "9263   vaccine, vaccination, flu, opposition, vaccinate   \n",
       "9273   vaccine, vaccination, flu, opposition, vaccinate   \n",
       "9283   vaccine, vaccination, flu, opposition, vaccinate   \n",
       "9293   vaccine, vaccination, flu, opposition, vaccinate   \n",
       "\n",
       "                   time_start                 time_end  context_window  \\\n",
       "1000  2019-12-15 11:35:15.604  2019-12-15 11:35:30.772               0   \n",
       "1010  2019-12-15 10:30:26.940  2019-12-15 10:30:30.625               0   \n",
       "1363  2019-12-15 12:35:50.187  2019-12-15 12:36:16.463               1   \n",
       "1892  2019-12-15 08:51:05.793  2019-12-15 08:51:24.773               1   \n",
       "1902  2019-12-15 13:37:30.658  2019-12-15 13:37:44.452               0   \n",
       "...                       ...                      ...             ...   \n",
       "9253  2019-12-27 14:36:11.934  2019-12-27 14:36:30.502               0   \n",
       "9263  2019-12-27 14:36:52.264  2019-12-27 14:37:09.781               0   \n",
       "9273  2020-01-02 14:36:05.187  2020-01-02 14:36:40.309               0   \n",
       "9283  2019-12-19 17:38:47.153  2019-12-19 17:39:16.743               0   \n",
       "9293  2020-01-02 08:25:57.116  2020-01-02 08:26:08.012               0   \n",
       "\n",
       "                                                   tags reason  \n",
       "1000  the author of this sentence shows signs of the...    NaN  \n",
       "1010                                                NaN    NaN  \n",
       "1363  the author of this sentence shows signs of the...    NaN  \n",
       "1892                                                NaN    NaN  \n",
       "1902  the sentence contains argumentation that is we...    NaN  \n",
       "...                                                 ...    ...  \n",
       "9253  the sentence contains an encouragement to act ...    NaN  \n",
       "9263                                                NaN    NaN  \n",
       "9273                                                NaN    NaN  \n",
       "9283                                                NaN    NaN  \n",
       "9293                                                NaN    NaN  \n",
       "\n",
       "[127 rows x 12 columns]"
      ],
      "text/html": "<div>\n<style scoped>\n    .dataframe tbody tr th:only-of-type {\n        vertical-align: middle;\n    }\n\n    .dataframe tbody tr th {\n        vertical-align: top;\n    }\n\n    .dataframe thead th {\n        text-align: right;\n    }\n</style>\n<table border=\"1\" class=\"dataframe\">\n  <thead>\n    <tr style=\"text-align: right;\">\n      <th></th>\n      <th>Unnamed: 0</th>\n      <th>sentence_id</th>\n      <th>article_id</th>\n      <th>body</th>\n      <th>category</th>\n      <th>label</th>\n      <th>keywords</th>\n      <th>time_start</th>\n      <th>time_end</th>\n      <th>context_window</th>\n      <th>tags</th>\n      <th>reason</th>\n    </tr>\n  </thead>\n  <tbody>\n    <tr>\n      <th>1000</th>\n      <td>1000</td>\n      <td>6453</td>\n      <td>148</td>\n      <td>TUCSON, Ariz., Dec.  07, 2018  (GLOBE NEWSWIRE...</td>\n      <td>vaccination</td>\n      <td>NONCRED</td>\n      <td>hooker, dr, data, surgeon, original</td>\n      <td>2019-12-15 11:35:15.604</td>\n      <td>2019-12-15 11:35:30.772</td>\n      <td>0</td>\n      <td>the author of this sentence shows signs of the...</td>\n      <td>NaN</td>\n    </tr>\n    <tr>\n      <th>1010</th>\n      <td>1010</td>\n      <td>6469</td>\n      <td>148</td>\n      <td>Brian Hooker, Ph.D., drbrianhooker@gmail.com, ...</td>\n      <td>vaccination</td>\n      <td>NEU</td>\n      <td>hooker, dr, data, surgeon, original</td>\n      <td>2019-12-15 10:30:26.940</td>\n      <td>2019-12-15 10:30:30.625</td>\n      <td>0</td>\n      <td>NaN</td>\n      <td>NaN</td>\n    </tr>\n    <tr>\n      <th>1363</th>\n      <td>1363</td>\n      <td>6953</td>\n      <td>158</td>\n      <td>What isn’t highlighted is that in many cases, ...</td>\n      <td>vaccination</td>\n      <td>NONCRED</td>\n      <td>vaccination, vaccine, reaction, administration...</td>\n      <td>2019-12-15 12:35:50.187</td>\n      <td>2019-12-15 12:36:16.463</td>\n      <td>1</td>\n      <td>the author of this sentence shows signs of the...</td>\n      <td>NaN</td>\n    </tr>\n    <tr>\n      <th>1892</th>\n      <td>1892</td>\n      <td>7602</td>\n      <td>170</td>\n      <td>In another paper published in the Journal of t...</td>\n      <td>vaccination</td>\n      <td>NEU</td>\n      <td>vaccine, vaccination, immune, injury, activate</td>\n      <td>2019-12-15 08:51:05.793</td>\n      <td>2019-12-15 08:51:24.773</td>\n      <td>1</td>\n      <td>NaN</td>\n      <td>NaN</td>\n    </tr>\n    <tr>\n      <th>1902</th>\n      <td>1902</td>\n      <td>7615</td>\n      <td>170</td>\n      <td>When the body’s immune system is activated thi...</td>\n      <td>vaccination</td>\n      <td>NONCRED</td>\n      <td>vaccine, vaccination, immune, injury, activate</td>\n      <td>2019-12-15 13:37:30.658</td>\n      <td>2019-12-15 13:37:44.452</td>\n      <td>0</td>\n      <td>the sentence contains argumentation that is we...</td>\n      <td>NaN</td>\n    </tr>\n    <tr>\n      <th>...</th>\n      <td>...</td>\n      <td>...</td>\n      <td>...</td>\n      <td>...</td>\n      <td>...</td>\n      <td>...</td>\n      <td>...</td>\n      <td>...</td>\n      <td>...</td>\n      <td>...</td>\n      <td>...</td>\n      <td>...</td>\n    </tr>\n    <tr>\n      <th>9253</th>\n      <td>9253</td>\n      <td>15748</td>\n      <td>320</td>\n      <td>These include: Autism The belief that vaccines...</td>\n      <td>vaccination</td>\n      <td>NONCRED</td>\n      <td>vaccine, vaccination, flu, opposition, vaccinate</td>\n      <td>2019-12-27 14:36:11.934</td>\n      <td>2019-12-27 14:36:30.502</td>\n      <td>0</td>\n      <td>the sentence contains an encouragement to act ...</td>\n      <td>NaN</td>\n    </tr>\n    <tr>\n      <th>9263</th>\n      <td>9263</td>\n      <td>15758</td>\n      <td>320</td>\n      <td>Even so, the CDC states that thimerosal does n...</td>\n      <td>vaccination</td>\n      <td>CRED</td>\n      <td>vaccine, vaccination, flu, opposition, vaccinate</td>\n      <td>2019-12-27 14:36:52.264</td>\n      <td>2019-12-27 14:37:09.781</td>\n      <td>0</td>\n      <td>NaN</td>\n      <td>NaN</td>\n    </tr>\n    <tr>\n      <th>9273</th>\n      <td>9273</td>\n      <td>15768</td>\n      <td>320</td>\n      <td>There are both shot and nasal spray vaccinatio...</td>\n      <td>vaccination</td>\n      <td>CRED</td>\n      <td>vaccine, vaccination, flu, opposition, vaccinate</td>\n      <td>2020-01-02 14:36:05.187</td>\n      <td>2020-01-02 14:36:40.309</td>\n      <td>0</td>\n      <td>NaN</td>\n      <td>NaN</td>\n    </tr>\n    <tr>\n      <th>9283</th>\n      <td>9283</td>\n      <td>15778</td>\n      <td>320</td>\n      <td>When people mistrust science, they’re less lik...</td>\n      <td>vaccination</td>\n      <td>CRED</td>\n      <td>vaccine, vaccination, flu, opposition, vaccinate</td>\n      <td>2019-12-19 17:38:47.153</td>\n      <td>2019-12-19 17:39:16.743</td>\n      <td>0</td>\n      <td>NaN</td>\n      <td>NaN</td>\n    </tr>\n    <tr>\n      <th>9293</th>\n      <td>9293</td>\n      <td>15788</td>\n      <td>320</td>\n      <td>If you have concerns about a vaccination for y...</td>\n      <td>vaccination</td>\n      <td>CRED</td>\n      <td>vaccine, vaccination, flu, opposition, vaccinate</td>\n      <td>2020-01-02 08:25:57.116</td>\n      <td>2020-01-02 08:26:08.012</td>\n      <td>0</td>\n      <td>NaN</td>\n      <td>NaN</td>\n    </tr>\n  </tbody>\n</table>\n<p>127 rows × 12 columns</p>\n</div>"
     },
     "metadata": {},
     "execution_count": 60
    }
   ],
   "source": [
    "vacc=med_s[med_s['category']=='vaccination']\n",
    "vacc=vacc.iloc[::10, :]\n",
    "vacc"
   ]
  },
  {
   "cell_type": "code",
   "execution_count": 61,
   "metadata": {},
   "outputs": [
    {
     "output_type": "execute_result",
     "data": {
      "text/plain": [
       "                                                     s1  \\\n",
       "2351  Also make sure your kids get the flu vaccine e...   \n",
       "4055  For women who received the H1N1 vaccine in bot...   \n",
       "7654  So, for example, a child born on January 1st a...   \n",
       "7487  Babies infected with the rubella virus in thei...   \n",
       "7912  Specifically, the review found strong evidence...   \n",
       "...                                                 ...   \n",
       "7035  If someone were to carry in a disease from abr...   \n",
       "6095  In the present study, frequencies of cases wer...   \n",
       "5771  For example, persons with severe immunocomprom...   \n",
       "637   Numerous instances of neurological, devastatin...   \n",
       "7377  Without insulin, the body cannot process and u...   \n",
       "\n",
       "                                                     s2  \n",
       "2351  The expansion of genetic studies has found tha...  \n",
       "4055  When babies with this sub-clinical inflammatio...  \n",
       "7654  There may be mild side effects, like swelling ...  \n",
       "7487  However, in many parts of the world many vacci...  \n",
       "7912  In contrast, just 57 claims of deaths due to m...  \n",
       "...                                                 ...  \n",
       "7035  To monitor the safety of vaccines after licens...  \n",
       "6095  Today, most vaccines carry only trace amounts ...  \n",
       "5771     And it is rare for side effects to be serious.  \n",
       "637   Autism was first described in 1943 among child...  \n",
       "7377  Prospective clinical trials are needed to furt...  \n",
       "\n",
       "[8001 rows x 2 columns]"
      ],
      "text/html": "<div>\n<style scoped>\n    .dataframe tbody tr th:only-of-type {\n        vertical-align: middle;\n    }\n\n    .dataframe tbody tr th {\n        vertical-align: top;\n    }\n\n    .dataframe thead th {\n        text-align: right;\n    }\n</style>\n<table border=\"1\" class=\"dataframe\">\n  <thead>\n    <tr style=\"text-align: right;\">\n      <th></th>\n      <th>s1</th>\n      <th>s2</th>\n    </tr>\n  </thead>\n  <tbody>\n    <tr>\n      <th>2351</th>\n      <td>Also make sure your kids get the flu vaccine e...</td>\n      <td>The expansion of genetic studies has found tha...</td>\n    </tr>\n    <tr>\n      <th>4055</th>\n      <td>For women who received the H1N1 vaccine in bot...</td>\n      <td>When babies with this sub-clinical inflammatio...</td>\n    </tr>\n    <tr>\n      <th>7654</th>\n      <td>So, for example, a child born on January 1st a...</td>\n      <td>There may be mild side effects, like swelling ...</td>\n    </tr>\n    <tr>\n      <th>7487</th>\n      <td>Babies infected with the rubella virus in thei...</td>\n      <td>However, in many parts of the world many vacci...</td>\n    </tr>\n    <tr>\n      <th>7912</th>\n      <td>Specifically, the review found strong evidence...</td>\n      <td>In contrast, just 57 claims of deaths due to m...</td>\n    </tr>\n    <tr>\n      <th>...</th>\n      <td>...</td>\n      <td>...</td>\n    </tr>\n    <tr>\n      <th>7035</th>\n      <td>If someone were to carry in a disease from abr...</td>\n      <td>To monitor the safety of vaccines after licens...</td>\n    </tr>\n    <tr>\n      <th>6095</th>\n      <td>In the present study, frequencies of cases wer...</td>\n      <td>Today, most vaccines carry only trace amounts ...</td>\n    </tr>\n    <tr>\n      <th>5771</th>\n      <td>For example, persons with severe immunocomprom...</td>\n      <td>And it is rare for side effects to be serious.</td>\n    </tr>\n    <tr>\n      <th>637</th>\n      <td>Numerous instances of neurological, devastatin...</td>\n      <td>Autism was first described in 1943 among child...</td>\n    </tr>\n    <tr>\n      <th>7377</th>\n      <td>Without insulin, the body cannot process and u...</td>\n      <td>Prospective clinical trials are needed to furt...</td>\n    </tr>\n  </tbody>\n</table>\n<p>8001 rows × 2 columns</p>\n</div>"
     },
     "metadata": {},
     "execution_count": 61
    }
   ],
   "source": [
    "from itertools import combinations\n",
    "test = pd.DataFrame(\n",
    "    [x for x in combinations(vacc.body, 2)],\n",
    "    columns=['s1', 's2'])\n",
    "test=test.sample(frac=1)\n",
    "test"
   ]
  },
  {
   "cell_type": "code",
   "execution_count": 62,
   "metadata": {},
   "outputs": [],
   "source": [
    "test.to_csv('vacc_sentences.tsv',  sep = '\\t')"
   ]
  },
  {
   "cell_type": "code",
   "execution_count": null,
   "metadata": {},
   "outputs": [],
   "source": []
  }
 ]
}